{
 "cells": [
  {
   "cell_type": "code",
   "execution_count": 14,
   "metadata": {},
   "outputs": [],
   "source": [
    "import os\n",
    "import pandas as pd\n",
    "import matplotlib.pyplot as plt\n",
    "import seaborn as sns\n",
    "import itertools\n",
    "import collections\n",
    "import pickle\n",
    "\n",
    "import tweepy as tw\n",
    "import nltk\n",
    "from nltk.corpus import stopwords\n",
    "import re\n",
    "import networkx\n",
    "\n",
    "import warnings\n",
    "warnings.filterwarnings(\"ignore\")\n",
    "\n",
    "sns.set(font_scale=1.5)\n",
    "sns.set_style(\"whitegrid\")"
   ]
  },
  {
   "cell_type": "code",
   "execution_count": 15,
   "metadata": {},
   "outputs": [],
   "source": [
    "# Load saved keys from key file\n",
    "keys = pickle.load(open('api_key.p', 'rb'))"
   ]
  },
  {
   "cell_type": "code",
   "execution_count": 18,
   "metadata": {},
   "outputs": [],
   "source": [
    "auth = tw.OAuthHandler(keys['consumer_key'], keys['consumer_secret'])\n",
    "auth.set_access_token(keys['access_token'], keys['access_token_secret'])\n",
    "api = tw.API(auth, wait_on_rate_limit=True)"
   ]
  },
  {
   "cell_type": "code",
   "execution_count": 30,
   "metadata": {},
   "outputs": [
    {
     "data": {
      "text/html": [
       "<div>\n",
       "<style scoped>\n",
       "    .dataframe tbody tr th:only-of-type {\n",
       "        vertical-align: middle;\n",
       "    }\n",
       "\n",
       "    .dataframe tbody tr th {\n",
       "        vertical-align: top;\n",
       "    }\n",
       "\n",
       "    .dataframe thead th {\n",
       "        text-align: right;\n",
       "    }\n",
       "</style>\n",
       "<table border=\"1\" class=\"dataframe\">\n",
       "  <thead>\n",
       "    <tr style=\"text-align: right;\">\n",
       "      <th></th>\n",
       "      <th>Topic</th>\n",
       "      <th>Count</th>\n",
       "    </tr>\n",
       "  </thead>\n",
       "  <tbody>\n",
       "    <tr>\n",
       "      <th>0</th>\n",
       "      <td>#WHUARS</td>\n",
       "      <td>69165.0</td>\n",
       "    </tr>\n",
       "    <tr>\n",
       "      <th>1</th>\n",
       "      <td>#ImpeachmentHearings</td>\n",
       "      <td>150606.0</td>\n",
       "    </tr>\n",
       "    <tr>\n",
       "      <th>2</th>\n",
       "      <td>#bbcqt</td>\n",
       "      <td>44633.0</td>\n",
       "    </tr>\n",
       "    <tr>\n",
       "      <th>3</th>\n",
       "      <td>West Ham</td>\n",
       "      <td>55354.0</td>\n",
       "    </tr>\n",
       "    <tr>\n",
       "      <th>4</th>\n",
       "      <td>#IMedici</td>\n",
       "      <td>29731.0</td>\n",
       "    </tr>\n",
       "  </tbody>\n",
       "</table>\n",
       "</div>"
      ],
      "text/plain": [
       "                  Topic     Count\n",
       "0               #WHUARS   69165.0\n",
       "1  #ImpeachmentHearings  150606.0\n",
       "2                #bbcqt   44633.0\n",
       "3              West Ham   55354.0\n",
       "4              #IMedici   29731.0"
      ]
     },
     "execution_count": 30,
     "metadata": {},
     "output_type": "execute_result"
    }
   ],
   "source": [
    "# See available regions\n",
    "# api.trends_available() # worldwide has woeid of 1\n",
    "\n",
    "# Get worldwide trending topics and number of Tweets for each\n",
    "trends1 = api.trends_place(1)\n",
    "trends = [(trend['name'], trend['tweet_volume']) for trend in trends1[0]['trends']]\n",
    "\n",
    "# Create pandas df\n",
    "trends_df = pd.DataFrame(trends, columns=['Topic', 'Count'])\n",
    "trends_df.head()"
   ]
  },
  {
   "cell_type": "code",
   "execution_count": 33,
   "metadata": {},
   "outputs": [
    {
     "data": {
      "text/plain": [
       "['Ironic how Xhaka spent the whole game ducking out of tackles to protect his face the gets smashed in the face with… https://t.co/0DNSlmspW2',\n",
       " 'Funny what one game, 5 mins of football can do- feeling so happy like the players now! They are smiling again. Feel… https://t.co/XAW1AnGJmX',\n",
       " 'If we assume Pellegrini is out, Eddie Howe, Moyes and Benitez would all be in the running. I don’t like the way the… https://t.co/u9gawpiAUg',\n",
       " \"@karren_brady @davidgold @WestHam it's time to act before it gets to late.\\n\\nThis nonsense needs to stop now\\n\\n#WHUFC… https://t.co/8SoSdxyA6m\",\n",
       " 'On the brink... but Manuel Pellegrini backs himself to solve West Ham crisis amid fan fury\\n\\n#WHUARS  https://t.co/MpBFyltXUd']"
      ]
     },
     "execution_count": 33,
     "metadata": {},
     "output_type": "execute_result"
    }
   ],
   "source": [
    "# Download tweets based on trending topic\n",
    "search_term = trends[0][0] + ' -filter:retweets'\n",
    "\n",
    "tweets = tw.Cursor(api.search,\n",
    "                   q=search_term,\n",
    "                   lang=\"en\",\n",
    "                   since='2019-12-09').items(10)\n",
    "\n",
    "all_tweets = [tweet.text for tweet in tweets]\n",
    "\n",
    "all_tweets[:5]"
   ]
  },
  {
   "cell_type": "code",
   "execution_count": null,
   "metadata": {},
   "outputs": [],
   "source": []
  }
 ],
 "metadata": {
  "kernelspec": {
   "display_name": "Python 3",
   "language": "python",
   "name": "python3"
  }
 },
 "nbformat": 4,
 "nbformat_minor": 2
}
